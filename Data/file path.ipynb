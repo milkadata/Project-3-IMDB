{
 "cells": [
  {
   "cell_type": "code",
   "execution_count": 1,
   "id": "db8471e2",
   "metadata": {},
   "outputs": [
    {
     "name": "stdout",
     "output_type": "stream",
     "text": [
      "/Users/milkasantana/Documents/GitHub/Project 3 IMDB/Project-3-IMDB/Data/title_basics.csv.gz\n"
     ]
    }
   ],
   "source": [
    "import os\n",
    "\n",
    "# Specify the filename or relative/absolute path to the file\n",
    "filename = 'title_basics.csv.gz'\n",
    "\n",
    "# Get the absolute path of the file\n",
    "file_path = os.path.abspath(filename)\n",
    "\n",
    "# Print the file path\n",
    "print(file_path)\n"
   ]
  }
 ],
 "metadata": {
  "kernelspec": {
   "display_name": "Python (dojo-env)",
   "language": "python",
   "name": "dojo-env"
  },
  "language_info": {
   "codemirror_mode": {
    "name": "ipython",
    "version": 3
   },
   "file_extension": ".py",
   "mimetype": "text/x-python",
   "name": "python",
   "nbconvert_exporter": "python",
   "pygments_lexer": "ipython3",
   "version": "3.9.15"
  },
  "toc": {
   "base_numbering": 1,
   "nav_menu": {},
   "number_sections": false,
   "sideBar": true,
   "skip_h1_title": false,
   "title_cell": "Table of Contents",
   "title_sidebar": "Contents",
   "toc_cell": false,
   "toc_position": {},
   "toc_section_display": true,
   "toc_window_display": false
  }
 },
 "nbformat": 4,
 "nbformat_minor": 5
}
